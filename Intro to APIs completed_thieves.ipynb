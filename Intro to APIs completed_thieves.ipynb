{
 "cells": [
  {
   "cell_type": "markdown",
   "id": "7196054f",
   "metadata": {},
   "source": [
    "# Working with APIs"
   ]
  },
  {
   "cell_type": "markdown",
   "id": "0547b71e",
   "metadata": {},
   "source": [
    "API stands for Application programming interface<br>\n",
    "APIs are a way for applications to talk to eachother<br>\n",
    "In python we use the requests package to handle the connection<br>\n",
    "<small><strong>Note: It is requests with an s not request(this is a different package)</strong></small><br>\n",
    "Most API's communicate with data in the form of JSON<br>\n",
    "JSON stands for JavaScript Object Notation"
   ]
  },
  {
   "attachments": {},
   "cell_type": "markdown",
   "id": "1e486af1",
   "metadata": {},
   "source": [
    "### importing requests module"
   ]
  },
  {
   "cell_type": "code",
   "execution_count": 2,
   "id": "4db9d154",
   "metadata": {},
   "outputs": [],
   "source": [
    "import requests"
   ]
  },
  {
   "cell_type": "markdown",
   "id": "e8c2ce51",
   "metadata": {},
   "source": [
    "We will be connecting to the Ergast F1 Racer API today:\n",
    "http://ergast.com/mrd/\n",
    "\n",
    "to view JSON data nicely in the Chrome browser install the extension JSONview"
   ]
  },
  {
   "cell_type": "code",
   "execution_count": 18,
   "id": "52c440c6",
   "metadata": {},
   "outputs": [],
   "source": [
    "# Make sure to attach extension .json at the end of url\n",
    "url = 'http://ergast.com/api/f1/2008/5/driverStandings.json'"
   ]
  },
  {
   "attachments": {},
   "cell_type": "markdown",
   "id": "dfbbc95e",
   "metadata": {},
   "source": [
    "### using the request package to access data from api/url"
   ]
  },
  {
   "cell_type": "code",
   "execution_count": 19,
   "id": "f60c1b4a",
   "metadata": {},
   "outputs": [],
   "source": [
    "response = requests.get(url)"
   ]
  },
  {
   "attachments": {},
   "cell_type": "markdown",
   "id": "0d7503f9",
   "metadata": {},
   "source": [
    "### checking and making sure we got a successful response from our API\n",
    "#### status codes: 200 = ok/successful, 400 = bad/unsuccessful"
   ]
  },
  {
   "cell_type": "code",
   "execution_count": 20,
   "id": "7b63a204",
   "metadata": {},
   "outputs": [
    {
     "data": {
      "text/plain": [
       "True"
      ]
     },
     "execution_count": 20,
     "metadata": {},
     "output_type": "execute_result"
    }
   ],
   "source": [
    "response.status_code\n",
    "response.ok"
   ]
  },
  {
   "attachments": {},
   "cell_type": "markdown",
   "id": "9d869626",
   "metadata": {},
   "source": [
    "### view the response as a JSON with .json()"
   ]
  },
  {
   "cell_type": "code",
   "execution_count": null,
   "id": "ed4d3256",
   "metadata": {},
   "outputs": [],
   "source": [
    "response.json()\n"
   ]
  },
  {
   "attachments": {},
   "cell_type": "markdown",
   "id": "eb626cd5",
   "metadata": {},
   "source": [
    "### Get the Driver Standings Data from JSON"
   ]
  },
  {
   "cell_type": "code",
   "execution_count": 19,
   "id": "92e6cd2c",
   "metadata": {},
   "outputs": [],
   "source": [
    "driver_standings_data = response.json()['MRData']['StandingsTable']['StandingsLists'][0]['DriverStandings']"
   ]
  },
  {
   "attachments": {},
   "cell_type": "markdown",
   "id": "e2c9acc0",
   "metadata": {},
   "source": [
    "### Use a for loop to display all driver full names"
   ]
  },
  {
   "cell_type": "code",
   "execution_count": null,
   "id": "f074dfcf",
   "metadata": {},
   "outputs": [],
   "source": [
    "for driver in driver_standings_data:\n",
    "    print(driver['Driver']['givenName'], driver['Driver']['familyName'])"
   ]
  },
  {
   "attachments": {},
   "cell_type": "markdown",
   "id": "20a801d4",
   "metadata": {},
   "source": [
    "### Create a function getting certain driver info (givenName, familyName, dateOfBirth, wins, team)\n"
   ]
  },
  {
   "cell_type": "code",
   "execution_count": 3,
   "id": "be46a950",
   "metadata": {},
   "outputs": [],
   "source": [
    "def get_driver_info(data):\n",
    "    new_driver_data = []\n",
    "    for driver in data:\n",
    "        driver_dict = {}\n",
    "        full_name = f'{driver[\"Driver\"][\"givenName\"]} {driver[\"Driver\"][\"familyName\"]}'\n",
    "        driver_dict[full_name] = {\n",
    "            'DOB': driver['Driver']['dateOfBirth'],\n",
    "            'wins': driver['wins'],\n",
    "            'team': driver['Constructors'][0]['name']\n",
    "        }\n",
    "        new_driver_data.append(driver_dict)\n",
    "    return new_driver_data\n",
    "\n",
    "# get_driver_info(driver_standings_data)"
   ]
  },
  {
   "attachments": {},
   "cell_type": "markdown",
   "id": "4804a219",
   "metadata": {},
   "source": [
    "### Making a more flexible function to handle different years and rounds"
   ]
  },
  {
   "cell_type": "code",
   "execution_count": 16,
   "id": "3740c752",
   "metadata": {},
   "outputs": [],
   "source": [
    "def get_driver_info_year_rnd(year, rnd):\n",
    "    url = f'http://ergast.com/api/f1/{year}/{rnd}/driverStandings.json'\n",
    "    response = requests.get(url)\n",
    "    if response.ok:\n",
    "        standings_data = response.json()['MRData']['StandingsTable']['StandingsLists'][0]['DriverStandings']\n",
    "        return get_driver_info(standings_data)\n",
    "    else:\n",
    "        'That year or round does not exist.'\n",
    "\n",
    "# get_driver_info_year_rnd(2021, 5)\n"
   ]
  },
  {
   "cell_type": "markdown",
   "id": "6d546014",
   "metadata": {},
   "source": [
    "# <strong>Homework</strong>\n",
    "check out this Pokemon API https://pokeapi.co/\n",
    "Use the requests package to connect to this API and get and store data for 5 different pokemon.\n",
    "Get the pokemons: name, atleast one ability's name, base_experience, and the URL for its sprite (an image that shows up on screen) for the 'front_shiny', attack base_state, hp base_stat, defense base_stat"
   ]
  },
  {
   "cell_type": "code",
   "execution_count": 25,
   "id": "5a9081e3",
   "metadata": {},
   "outputs": [
    {
     "name": "stdout",
     "output_type": "stream",
     "text": [
      "Here is the link, https://raw.githubusercontent.com/PokeAPI/sprites/master/sprites/pokemon/shiny/135.png, for a jolteon image\n",
      "jolteon has the volt-absorb ability\n",
      "jolteon has 184 base experience\n",
      "jolteon has a 65 hp stat\n",
      "jolteon has a 65 attack stat\n",
      "jolteon has a 60 defense stat\n"
     ]
    }
   ],
   "source": [
    "import requests\n",
    "\n",
    "def getPokemonInfo():\n",
    "    base_url = 'https://pokeapi.co/'\n",
    "    name = input(\"Choose between Gengar, Jolteon, Blastoise, Raichu, & Onix: \")\n",
    "    url = f'{base_url}api/v2/pokemon/{name}'\n",
    "    response = requests.get(url)\n",
    "    if response.ok:\n",
    "        data = response.json()\n",
    "        front_shiny = data['sprites']['front_shiny']\n",
    "        print(f\"Here is the link, {front_shiny}, for a {name} image\")\n",
    "        ability = data['abilities'][0]['ability']['name']\n",
    "        print(f\"{name} has the {ability} ability\")\n",
    "        base_experience = data['base_experience']\n",
    "        print(f\"{name} has {base_experience} base experience\")\n",
    "        hp_stat = data['stats'][0]['base_stat']\n",
    "        print(f\"{name} has a {hp_stat} hp stat\")\n",
    "        attack_stat = data['stats'][1]['base_stat']\n",
    "        print(f\"{name} has a {attack_stat} attack stat\")\n",
    "        defense_stat = data['stats'][2]['base_stat']\n",
    "        print(f\"{name} has a {defense_stat} defense stat\")\n",
    "    else:\n",
    "        print(\"Error: Pokémon not found.\")\n",
    "\n",
    "getPokemonInfo()\n"
   ]
  }
 ],
 "metadata": {
  "kernelspec": {
   "display_name": "Python 3",
   "language": "python",
   "name": "python3"
  },
  "language_info": {
   "codemirror_mode": {
    "name": "ipython",
    "version": 3
   },
   "file_extension": ".py",
   "mimetype": "text/x-python",
   "name": "python",
   "nbconvert_exporter": "python",
   "pygments_lexer": "ipython3",
   "version": "3.10.11"
  },
  "vscode": {
   "interpreter": {
    "hash": "aa82987a71ca0339a52998cd22613b0c002bda8349fa32a0cb67ceec3936a2bf"
   }
  }
 },
 "nbformat": 4,
 "nbformat_minor": 5
}
